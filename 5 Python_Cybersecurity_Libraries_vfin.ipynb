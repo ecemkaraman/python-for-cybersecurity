{
 "cells": [
  {
   "cell_type": "markdown",
   "id": "03c82ca3",
   "metadata": {},
   "source": [
    "# Python Libraries for Cybersecurity 🚀\n",
    "\n",
    "This notebook showcases **5 essential Python libraries** for cybersecurity professionals, providing **5 real-world security use cases per library**, complete with code snippets.\n",
    "\n",
    "## 📌 Libraries Covered:\n",
    "1. **NumPy** – Statistical analysis for anomaly detection\n",
    "2. **Pandas** – Log analysis and data processing\n",
    "3. **Scikit-learn** – Machine learning for threat detection\n",
    "4. **Requests** – API interactions for OSINT & threat intelligence\n",
    "5. **Yara-Python** – Malware detection and pattern matching\n",
    "\n",
    "Each section includes **5 practical scenarios** with **Python code examples** for hands-on learning.\n"
   ]
  },
  {
   "cell_type": "markdown",
   "id": "ceedb47f",
   "metadata": {},
   "source": [
    "## 1️⃣ NumPy – Statistical Analysis\n",
    "\n",
    "NumPy helps detect anomalies, perform statistical analysis, and model cyber threats."
   ]
  },
  {
   "cell_type": "markdown",
   "id": "91fbf207",
   "metadata": {},
   "source": [
    "### Scenario 1: Detecting outliers in network traffic logs"
   ]
  },
  {
   "cell_type": "code",
   "execution_count": 1,
   "id": "59768601",
   "metadata": {},
   "outputs": [
    {
     "name": "stdout",
     "output_type": "stream",
     "text": [
      "Detected 17 anomalies.\n"
     ]
    }
   ],
   "source": [
    "import numpy as np\n",
    "\n",
    "logs = np.random.normal(loc=100, scale=20, size=1000)  # Simulated traffic data\n",
    "threshold = np.mean(logs) + 2 * np.std(logs)\n",
    "anomalies = logs[logs > threshold]\n",
    "print(f\"Detected {len(anomalies)} anomalies.\")"
   ]
  },
  {
   "cell_type": "markdown",
   "id": "249bfc4c",
   "metadata": {},
   "source": [
    "### Scenario 2: Simulating data encryption efficiency"
   ]
  },
  {
   "cell_type": "code",
   "execution_count": null,
   "id": "63f44498",
   "metadata": {},
   "outputs": [],
   "source": [
    "import numpy as np\n",
    "\n",
    "data_sizes = np.random.randint(10, 1000, size=100)  # Simulating different file sizes\n",
    "encryption_times = data_sizes * np.random.uniform(0.5, 1.5, size=100)  # Random encryption times\n",
    "print(\"Average encryption time:\", np.mean(encryption_times))"
   ]
  },
  {
   "cell_type": "markdown",
   "id": "f499ec3b",
   "metadata": {},
   "source": [
    "### Scenario 3: Analyzing failed login attempts distribution"
   ]
  },
  {
   "cell_type": "code",
   "execution_count": 3,
   "id": "f4d4dd07",
   "metadata": {},
   "outputs": [
    {
     "name": "stdout",
     "output_type": "stream",
     "text": [
      "{0: 30, 1: 69, 2: 115, 3: 107, 4: 92, 5: 45, 6: 26, 7: 12, 8: 4}\n"
     ]
    }
   ],
   "source": [
    "import numpy as np\n",
    "\n",
    "login_attempts = np.random.poisson(lam=3, size=500)\n",
    "unique, counts = np.unique(login_attempts, return_counts=True)\n",
    "print(dict(zip(unique, counts)))"
   ]
  },
  {
   "cell_type": "markdown",
   "id": "3b785498",
   "metadata": {},
   "source": [
    "### Scenario 4: Detecting port scanning behavior"
   ]
  },
  {
   "cell_type": "code",
   "execution_count": null,
   "id": "e14a01dd",
   "metadata": {},
   "outputs": [],
   "source": [
    "import numpy as np\n",
    "\n",
    "ports_scanned = np.random.randint(20, 65535, 1000)\n",
    "port_threshold = np.percentile(ports_scanned, 95)\n",
    "suspicious_ports = ports_scanned[ports_scanned > port_threshold]\n",
    "print(f\"Suspicious scans detected: {len(suspicious_ports)}\")"
   ]
  },
  {
   "cell_type": "code",
   "execution_count": 6,
   "id": "4caf2f12",
   "metadata": {},
   "outputs": [
    {
     "ename": "SyntaxError",
     "evalue": "invalid syntax (1165813621.py, line 1)",
     "output_type": "error",
     "traceback": [
      "\u001b[0;36m  Cell \u001b[0;32mIn[6], line 1\u001b[0;36m\u001b[0m\n\u001b[0;31m    brew install graphviz  # macOS\u001b[0m\n\u001b[0m         ^\u001b[0m\n\u001b[0;31mSyntaxError\u001b[0m\u001b[0;31m:\u001b[0m invalid syntax\n"
     ]
    }
   ],
   "source": [
    "brew install graphviz  # macOS\n"
   ]
  },
  {
   "cell_type": "code",
   "execution_count": 2,
   "id": "040f60ad",
   "metadata": {},
   "outputs": [
    {
     "ename": "ExecutableNotFound",
     "evalue": "failed to execute PosixPath('dot'), make sure the Graphviz executables are on your systems' PATH",
     "output_type": "error",
     "traceback": [
      "\u001b[0;31m---------------------------------------------------------------------------\u001b[0m",
      "\u001b[0;31mFileNotFoundError\u001b[0m                         Traceback (most recent call last)",
      "File \u001b[0;32m~/anaconda3/lib/python3.11/site-packages/graphviz/backend/execute.py:78\u001b[0m, in \u001b[0;36mrun_check\u001b[0;34m(cmd, input_lines, encoding, quiet, **kwargs)\u001b[0m\n\u001b[1;32m     77\u001b[0m     \u001b[38;5;28;01melse\u001b[39;00m:\n\u001b[0;32m---> 78\u001b[0m         proc \u001b[38;5;241m=\u001b[39m subprocess\u001b[38;5;241m.\u001b[39mrun(cmd, \u001b[38;5;241m*\u001b[39m\u001b[38;5;241m*\u001b[39mkwargs)\n\u001b[1;32m     79\u001b[0m \u001b[38;5;28;01mexcept\u001b[39;00m \u001b[38;5;167;01mOSError\u001b[39;00m \u001b[38;5;28;01mas\u001b[39;00m e:\n",
      "File \u001b[0;32m~/anaconda3/lib/python3.11/subprocess.py:548\u001b[0m, in \u001b[0;36mrun\u001b[0;34m(input, capture_output, timeout, check, *popenargs, **kwargs)\u001b[0m\n\u001b[1;32m    546\u001b[0m     kwargs[\u001b[38;5;124m'\u001b[39m\u001b[38;5;124mstderr\u001b[39m\u001b[38;5;124m'\u001b[39m] \u001b[38;5;241m=\u001b[39m PIPE\n\u001b[0;32m--> 548\u001b[0m \u001b[38;5;28;01mwith\u001b[39;00m Popen(\u001b[38;5;241m*\u001b[39mpopenargs, \u001b[38;5;241m*\u001b[39m\u001b[38;5;241m*\u001b[39mkwargs) \u001b[38;5;28;01mas\u001b[39;00m process:\n\u001b[1;32m    549\u001b[0m     \u001b[38;5;28;01mtry\u001b[39;00m:\n",
      "File \u001b[0;32m~/anaconda3/lib/python3.11/subprocess.py:1024\u001b[0m, in \u001b[0;36mPopen.__init__\u001b[0;34m(self, args, bufsize, executable, stdin, stdout, stderr, preexec_fn, close_fds, shell, cwd, env, universal_newlines, startupinfo, creationflags, restore_signals, start_new_session, pass_fds, user, group, extra_groups, encoding, errors, text, umask, pipesize, process_group)\u001b[0m\n\u001b[1;32m   1021\u001b[0m             \u001b[38;5;28mself\u001b[39m\u001b[38;5;241m.\u001b[39mstderr \u001b[38;5;241m=\u001b[39m io\u001b[38;5;241m.\u001b[39mTextIOWrapper(\u001b[38;5;28mself\u001b[39m\u001b[38;5;241m.\u001b[39mstderr,\n\u001b[1;32m   1022\u001b[0m                     encoding\u001b[38;5;241m=\u001b[39mencoding, errors\u001b[38;5;241m=\u001b[39merrors)\n\u001b[0;32m-> 1024\u001b[0m     \u001b[38;5;28mself\u001b[39m\u001b[38;5;241m.\u001b[39m_execute_child(args, executable, preexec_fn, close_fds,\n\u001b[1;32m   1025\u001b[0m                         pass_fds, cwd, env,\n\u001b[1;32m   1026\u001b[0m                         startupinfo, creationflags, shell,\n\u001b[1;32m   1027\u001b[0m                         p2cread, p2cwrite,\n\u001b[1;32m   1028\u001b[0m                         c2pread, c2pwrite,\n\u001b[1;32m   1029\u001b[0m                         errread, errwrite,\n\u001b[1;32m   1030\u001b[0m                         restore_signals,\n\u001b[1;32m   1031\u001b[0m                         gid, gids, uid, umask,\n\u001b[1;32m   1032\u001b[0m                         start_new_session, process_group)\n\u001b[1;32m   1033\u001b[0m \u001b[38;5;28;01mexcept\u001b[39;00m:\n\u001b[1;32m   1034\u001b[0m     \u001b[38;5;66;03m# Cleanup if the child failed starting.\u001b[39;00m\n",
      "File \u001b[0;32m~/anaconda3/lib/python3.11/subprocess.py:1917\u001b[0m, in \u001b[0;36mPopen._execute_child\u001b[0;34m(self, args, executable, preexec_fn, close_fds, pass_fds, cwd, env, startupinfo, creationflags, shell, p2cread, p2cwrite, c2pread, c2pwrite, errread, errwrite, restore_signals, gid, gids, uid, umask, start_new_session, process_group)\u001b[0m\n\u001b[1;32m   1916\u001b[0m         err_msg \u001b[38;5;241m=\u001b[39m os\u001b[38;5;241m.\u001b[39mstrerror(errno_num)\n\u001b[0;32m-> 1917\u001b[0m     \u001b[38;5;28;01mraise\u001b[39;00m child_exception_type(errno_num, err_msg, err_filename)\n\u001b[1;32m   1918\u001b[0m \u001b[38;5;28;01mraise\u001b[39;00m child_exception_type(err_msg)\n",
      "\u001b[0;31mFileNotFoundError\u001b[0m: [Errno 2] No such file or directory: PosixPath('dot')",
      "\nThe above exception was the direct cause of the following exception:\n",
      "\u001b[0;31mExecutableNotFound\u001b[0m                        Traceback (most recent call last)",
      "Cell \u001b[0;32mIn[2], line 20\u001b[0m\n\u001b[1;32m     17\u001b[0m dot\u001b[38;5;241m.\u001b[39medge(\u001b[38;5;124m'\u001b[39m\u001b[38;5;124mE\u001b[39m\u001b[38;5;124m'\u001b[39m, \u001b[38;5;124m'\u001b[39m\u001b[38;5;124mO\u001b[39m\u001b[38;5;124m'\u001b[39m, label\u001b[38;5;241m=\u001b[39m\u001b[38;5;124m\"\u001b[39m\u001b[38;5;124mGenerate Insights\u001b[39m\u001b[38;5;124m\"\u001b[39m)\n\u001b[1;32m     19\u001b[0m \u001b[38;5;66;03m# Render the graph\u001b[39;00m\n\u001b[0;32m---> 20\u001b[0m dot\u001b[38;5;241m.\u001b[39mrender(\u001b[38;5;124m'\u001b[39m\u001b[38;5;124mml_pipeline\u001b[39m\u001b[38;5;124m'\u001b[39m, \u001b[38;5;28mformat\u001b[39m\u001b[38;5;241m=\u001b[39m\u001b[38;5;124m'\u001b[39m\u001b[38;5;124mpng\u001b[39m\u001b[38;5;124m'\u001b[39m, view\u001b[38;5;241m=\u001b[39m\u001b[38;5;28;01mTrue\u001b[39;00m)\n",
      "File \u001b[0;32m~/anaconda3/lib/python3.11/site-packages/graphviz/_tools.py:171\u001b[0m, in \u001b[0;36mdeprecate_positional_args.<locals>.decorator.<locals>.wrapper\u001b[0;34m(*args, **kwargs)\u001b[0m\n\u001b[1;32m    162\u001b[0m     wanted \u001b[38;5;241m=\u001b[39m \u001b[38;5;124m'\u001b[39m\u001b[38;5;124m, \u001b[39m\u001b[38;5;124m'\u001b[39m\u001b[38;5;241m.\u001b[39mjoin(\u001b[38;5;124mf\u001b[39m\u001b[38;5;124m'\u001b[39m\u001b[38;5;132;01m{\u001b[39;00mname\u001b[38;5;132;01m}\u001b[39;00m\u001b[38;5;124m=\u001b[39m\u001b[38;5;132;01m{\u001b[39;00mvalue\u001b[38;5;132;01m!r}\u001b[39;00m\u001b[38;5;124m'\u001b[39m\n\u001b[1;32m    163\u001b[0m                        \u001b[38;5;28;01mfor\u001b[39;00m name, value \u001b[38;5;129;01min\u001b[39;00m deprecated\u001b[38;5;241m.\u001b[39mitems())\n\u001b[1;32m    164\u001b[0m     warnings\u001b[38;5;241m.\u001b[39mwarn(\u001b[38;5;124mf\u001b[39m\u001b[38;5;124m'\u001b[39m\u001b[38;5;124mThe signature of \u001b[39m\u001b[38;5;132;01m{\u001b[39;00mfunc\u001b[38;5;241m.\u001b[39m\u001b[38;5;18m__name__\u001b[39m\u001b[38;5;132;01m}\u001b[39;00m\u001b[38;5;124m will be reduced\u001b[39m\u001b[38;5;124m'\u001b[39m\n\u001b[1;32m    165\u001b[0m                   \u001b[38;5;124mf\u001b[39m\u001b[38;5;124m'\u001b[39m\u001b[38;5;124m to \u001b[39m\u001b[38;5;132;01m{\u001b[39;00msupported_number\u001b[38;5;132;01m}\u001b[39;00m\u001b[38;5;124m positional args\u001b[39m\u001b[38;5;124m'\u001b[39m\n\u001b[1;32m    166\u001b[0m                   \u001b[38;5;124mf\u001b[39m\u001b[38;5;124m'\u001b[39m\u001b[38;5;124m \u001b[39m\u001b[38;5;132;01m{\u001b[39;00m\u001b[38;5;28mlist\u001b[39m(supported)\u001b[38;5;132;01m}\u001b[39;00m\u001b[38;5;124m: pass \u001b[39m\u001b[38;5;132;01m{\u001b[39;00mwanted\u001b[38;5;132;01m}\u001b[39;00m\u001b[38;5;124m'\u001b[39m\n\u001b[1;32m    167\u001b[0m                   \u001b[38;5;124m'\u001b[39m\u001b[38;5;124m as keyword arg(s)\u001b[39m\u001b[38;5;124m'\u001b[39m,\n\u001b[1;32m    168\u001b[0m                   stacklevel\u001b[38;5;241m=\u001b[39mstacklevel,\n\u001b[1;32m    169\u001b[0m                   category\u001b[38;5;241m=\u001b[39mcategory)\n\u001b[0;32m--> 171\u001b[0m \u001b[38;5;28;01mreturn\u001b[39;00m func(\u001b[38;5;241m*\u001b[39margs, \u001b[38;5;241m*\u001b[39m\u001b[38;5;241m*\u001b[39mkwargs)\n",
      "File \u001b[0;32m~/anaconda3/lib/python3.11/site-packages/graphviz/rendering.py:122\u001b[0m, in \u001b[0;36mRender.render\u001b[0;34m(self, filename, directory, view, cleanup, format, renderer, formatter, neato_no_op, quiet, quiet_view, outfile, engine, raise_if_result_exists, overwrite_source)\u001b[0m\n\u001b[1;32m    118\u001b[0m filepath \u001b[38;5;241m=\u001b[39m \u001b[38;5;28mself\u001b[39m\u001b[38;5;241m.\u001b[39msave(filename, directory\u001b[38;5;241m=\u001b[39mdirectory, skip_existing\u001b[38;5;241m=\u001b[39m\u001b[38;5;28;01mNone\u001b[39;00m)\n\u001b[1;32m    120\u001b[0m args\u001b[38;5;241m.\u001b[39mappend(filepath)\n\u001b[0;32m--> 122\u001b[0m rendered \u001b[38;5;241m=\u001b[39m \u001b[38;5;28mself\u001b[39m\u001b[38;5;241m.\u001b[39m_render(\u001b[38;5;241m*\u001b[39margs, \u001b[38;5;241m*\u001b[39m\u001b[38;5;241m*\u001b[39mkwargs)\n\u001b[1;32m    124\u001b[0m \u001b[38;5;28;01mif\u001b[39;00m cleanup:\n\u001b[1;32m    125\u001b[0m     log\u001b[38;5;241m.\u001b[39mdebug(\u001b[38;5;124m'\u001b[39m\u001b[38;5;124mdelete \u001b[39m\u001b[38;5;132;01m%r\u001b[39;00m\u001b[38;5;124m'\u001b[39m, filepath)\n",
      "File \u001b[0;32m~/anaconda3/lib/python3.11/site-packages/graphviz/_tools.py:171\u001b[0m, in \u001b[0;36mdeprecate_positional_args.<locals>.decorator.<locals>.wrapper\u001b[0;34m(*args, **kwargs)\u001b[0m\n\u001b[1;32m    162\u001b[0m     wanted \u001b[38;5;241m=\u001b[39m \u001b[38;5;124m'\u001b[39m\u001b[38;5;124m, \u001b[39m\u001b[38;5;124m'\u001b[39m\u001b[38;5;241m.\u001b[39mjoin(\u001b[38;5;124mf\u001b[39m\u001b[38;5;124m'\u001b[39m\u001b[38;5;132;01m{\u001b[39;00mname\u001b[38;5;132;01m}\u001b[39;00m\u001b[38;5;124m=\u001b[39m\u001b[38;5;132;01m{\u001b[39;00mvalue\u001b[38;5;132;01m!r}\u001b[39;00m\u001b[38;5;124m'\u001b[39m\n\u001b[1;32m    163\u001b[0m                        \u001b[38;5;28;01mfor\u001b[39;00m name, value \u001b[38;5;129;01min\u001b[39;00m deprecated\u001b[38;5;241m.\u001b[39mitems())\n\u001b[1;32m    164\u001b[0m     warnings\u001b[38;5;241m.\u001b[39mwarn(\u001b[38;5;124mf\u001b[39m\u001b[38;5;124m'\u001b[39m\u001b[38;5;124mThe signature of \u001b[39m\u001b[38;5;132;01m{\u001b[39;00mfunc\u001b[38;5;241m.\u001b[39m\u001b[38;5;18m__name__\u001b[39m\u001b[38;5;132;01m}\u001b[39;00m\u001b[38;5;124m will be reduced\u001b[39m\u001b[38;5;124m'\u001b[39m\n\u001b[1;32m    165\u001b[0m                   \u001b[38;5;124mf\u001b[39m\u001b[38;5;124m'\u001b[39m\u001b[38;5;124m to \u001b[39m\u001b[38;5;132;01m{\u001b[39;00msupported_number\u001b[38;5;132;01m}\u001b[39;00m\u001b[38;5;124m positional args\u001b[39m\u001b[38;5;124m'\u001b[39m\n\u001b[1;32m    166\u001b[0m                   \u001b[38;5;124mf\u001b[39m\u001b[38;5;124m'\u001b[39m\u001b[38;5;124m \u001b[39m\u001b[38;5;132;01m{\u001b[39;00m\u001b[38;5;28mlist\u001b[39m(supported)\u001b[38;5;132;01m}\u001b[39;00m\u001b[38;5;124m: pass \u001b[39m\u001b[38;5;132;01m{\u001b[39;00mwanted\u001b[38;5;132;01m}\u001b[39;00m\u001b[38;5;124m'\u001b[39m\n\u001b[1;32m    167\u001b[0m                   \u001b[38;5;124m'\u001b[39m\u001b[38;5;124m as keyword arg(s)\u001b[39m\u001b[38;5;124m'\u001b[39m,\n\u001b[1;32m    168\u001b[0m                   stacklevel\u001b[38;5;241m=\u001b[39mstacklevel,\n\u001b[1;32m    169\u001b[0m                   category\u001b[38;5;241m=\u001b[39mcategory)\n\u001b[0;32m--> 171\u001b[0m \u001b[38;5;28;01mreturn\u001b[39;00m func(\u001b[38;5;241m*\u001b[39margs, \u001b[38;5;241m*\u001b[39m\u001b[38;5;241m*\u001b[39mkwargs)\n",
      "File \u001b[0;32m~/anaconda3/lib/python3.11/site-packages/graphviz/backend/rendering.py:326\u001b[0m, in \u001b[0;36mrender\u001b[0;34m(engine, format, filepath, renderer, formatter, neato_no_op, quiet, outfile, raise_if_result_exists, overwrite_filepath)\u001b[0m\n\u001b[1;32m    322\u001b[0m cmd \u001b[38;5;241m+\u001b[39m\u001b[38;5;241m=\u001b[39m args\n\u001b[1;32m    324\u001b[0m \u001b[38;5;28;01massert\u001b[39;00m filepath \u001b[38;5;129;01mis\u001b[39;00m \u001b[38;5;129;01mnot\u001b[39;00m \u001b[38;5;28;01mNone\u001b[39;00m, \u001b[38;5;124m'\u001b[39m\u001b[38;5;124mwork around pytype false alarm\u001b[39m\u001b[38;5;124m'\u001b[39m\n\u001b[0;32m--> 326\u001b[0m execute\u001b[38;5;241m.\u001b[39mrun_check(cmd,\n\u001b[1;32m    327\u001b[0m                   cwd\u001b[38;5;241m=\u001b[39mfilepath\u001b[38;5;241m.\u001b[39mparent \u001b[38;5;28;01mif\u001b[39;00m filepath\u001b[38;5;241m.\u001b[39mparent\u001b[38;5;241m.\u001b[39mparts \u001b[38;5;28;01melse\u001b[39;00m \u001b[38;5;28;01mNone\u001b[39;00m,\n\u001b[1;32m    328\u001b[0m                   quiet\u001b[38;5;241m=\u001b[39mquiet,\n\u001b[1;32m    329\u001b[0m                   capture_output\u001b[38;5;241m=\u001b[39m\u001b[38;5;28;01mTrue\u001b[39;00m)\n\u001b[1;32m    331\u001b[0m \u001b[38;5;28;01mreturn\u001b[39;00m os\u001b[38;5;241m.\u001b[39mfspath(outfile)\n",
      "File \u001b[0;32m~/anaconda3/lib/python3.11/site-packages/graphviz/backend/execute.py:81\u001b[0m, in \u001b[0;36mrun_check\u001b[0;34m(cmd, input_lines, encoding, quiet, **kwargs)\u001b[0m\n\u001b[1;32m     79\u001b[0m \u001b[38;5;28;01mexcept\u001b[39;00m \u001b[38;5;167;01mOSError\u001b[39;00m \u001b[38;5;28;01mas\u001b[39;00m e:\n\u001b[1;32m     80\u001b[0m     \u001b[38;5;28;01mif\u001b[39;00m e\u001b[38;5;241m.\u001b[39merrno \u001b[38;5;241m==\u001b[39m errno\u001b[38;5;241m.\u001b[39mENOENT:\n\u001b[0;32m---> 81\u001b[0m         \u001b[38;5;28;01mraise\u001b[39;00m ExecutableNotFound(cmd) \u001b[38;5;28;01mfrom\u001b[39;00m \u001b[38;5;21;01me\u001b[39;00m\n\u001b[1;32m     82\u001b[0m     \u001b[38;5;28;01mraise\u001b[39;00m\n\u001b[1;32m     84\u001b[0m \u001b[38;5;28;01mif\u001b[39;00m \u001b[38;5;129;01mnot\u001b[39;00m quiet \u001b[38;5;129;01mand\u001b[39;00m proc\u001b[38;5;241m.\u001b[39mstderr:\n",
      "\u001b[0;31mExecutableNotFound\u001b[0m: failed to execute PosixPath('dot'), make sure the Graphviz executables are on your systems' PATH"
     ]
    }
   ],
   "source": [
    "from graphviz import Digraph\n",
    "\n",
    "# Create a new directed graph\n",
    "dot = Digraph()\n",
    "\n",
    "# Define nodes\n",
    "dot.node('D', 'Data Collection')\n",
    "dot.node('P', 'Preprocessing')\n",
    "dot.node('M', 'Model Training')\n",
    "dot.node('E', 'Evaluation')\n",
    "dot.node('O', 'Output & Prediction')\n",
    "\n",
    "# Define edges\n",
    "dot.edge('D', 'P', label=\"Clean & Normalize\")\n",
    "dot.edge('P', 'M', label=\"Feature Extraction\")\n",
    "dot.edge('M', 'E', label=\"Validate Model\")\n",
    "dot.edge('E', 'O', label=\"Generate Insights\")\n",
    "\n",
    "# Render the graph\n",
    "dot.render('ml_pipeline', format='png', view=True)\n",
    "\n"
   ]
  },
  {
   "cell_type": "markdown",
   "id": "35f6bdf9",
   "metadata": {},
   "source": [
    "### Scenario 5: Calculating entropy for data randomness detection"
   ]
  },
  {
   "cell_type": "code",
   "execution_count": null,
   "id": "e5348a02",
   "metadata": {},
   "outputs": [],
   "source": [
    "import numpy as np\n",
    "\n",
    "def entropy(data):\n",
    "    _, counts = np.unique(data, return_counts=True)\n",
    "    probabilities = counts / counts.sum()\n",
    "    return -np.sum(probabilities * np.log2(probabilities))\n",
    "\n",
    "sample_data = np.random.randint(0, 256, 1000)\n",
    "print(\"Entropy:\", entropy(sample_data))"
   ]
  },
  {
   "cell_type": "markdown",
   "id": "6e6f5112",
   "metadata": {},
   "source": [
    "## 2️⃣ Pandas – Log Analysis\n",
    "\n",
    "Pandas is ideal for handling, filtering, and analyzing large security logs."
   ]
  },
  {
   "cell_type": "markdown",
   "id": "41e117a8",
   "metadata": {},
   "source": [
    "### Scenario 1: Analyzing firewall logs for suspicious activity"
   ]
  },
  {
   "cell_type": "code",
   "execution_count": null,
   "id": "7a88b79a",
   "metadata": {},
   "outputs": [],
   "source": [
    "import pandas as pd\n",
    "\n",
    "df = pd.DataFrame({'IP': ['192.168.1.1', '10.0.0.2', '172.16.0.3', '192.168.1.1'],\n",
    "                   'Action': ['ALLOW', 'BLOCK', 'ALLOW', 'BLOCK']})\n",
    "print(df.groupby(['IP', 'Action']).size())"
   ]
  },
  {
   "cell_type": "markdown",
   "id": "5929e714",
   "metadata": {},
   "source": [
    "### Scenario 2: Filtering malicious IPs from a threat intelligence feed"
   ]
  },
  {
   "cell_type": "code",
   "execution_count": null,
   "id": "0f5ad4bc",
   "metadata": {},
   "outputs": [],
   "source": [
    "import pandas as pd\n",
    "\n",
    "df = pd.DataFrame({'IP': ['8.8.8.8', '192.168.1.1', '10.0.0.2'],\n",
    "                   'Reputation': ['safe', 'malicious', 'safe']})\n",
    "malicious_ips = df[df['Reputation'] == 'malicious']\n",
    "print(malicious_ips)"
   ]
  },
  {
   "cell_type": "markdown",
   "id": "967d3f10",
   "metadata": {},
   "source": [
    "### Scenario 3: Tracking brute force attack attempts"
   ]
  },
  {
   "cell_type": "code",
   "execution_count": null,
   "id": "25659a1e",
   "metadata": {},
   "outputs": [],
   "source": [
    "import pandas as pd\n",
    "\n",
    "df = pd.DataFrame({'Username': ['admin', 'root', 'guest', 'admin', 'admin'],\n",
    "                   'Attempts': [10, 15, 3, 5, 8]})\n",
    "print(df[df['Attempts'] > 5])"
   ]
  },
  {
   "cell_type": "markdown",
   "id": "86a38e09",
   "metadata": {},
   "source": [
    "### Scenario 4: Visualizing log events over time"
   ]
  },
  {
   "cell_type": "code",
   "execution_count": null,
   "id": "fad74fd8",
   "metadata": {},
   "outputs": [],
   "source": [
    "import pandas as pd\n",
    "import matplotlib.pyplot as plt\n",
    "\n",
    "df = pd.DataFrame({'Time': pd.date_range(start='1/1/2024', periods=10, freq='H'),\n",
    "                   'Events': [5, 9, 15, 7, 10, 14, 8, 6, 3, 12]})\n",
    "df.plot(x='Time', y='Events', kind='line')\n",
    "plt.show()"
   ]
  },
  {
   "cell_type": "markdown",
   "id": "850f3d39",
   "metadata": {},
   "source": [
    "### Scenario 5: Merging threat reports from multiple sources"
   ]
  },
  {
   "cell_type": "code",
   "execution_count": null,
   "id": "c31c90d6",
   "metadata": {},
   "outputs": [],
   "source": [
    "import pandas as pd\n",
    "\n",
    "df1 = pd.DataFrame({'IP': ['192.168.1.1', '10.0.0.2'], 'Threat_Level': ['High', 'Low']})\n",
    "df2 = pd.DataFrame({'IP': ['192.168.1.1', '172.16.0.3'], 'Threat_Type': ['Botnet', 'Trojan']})\n",
    "merged_df = pd.merge(df1, df2, on='IP', how='outer')\n",
    "print(merged_df)"
   ]
  },
  {
   "cell_type": "markdown",
   "id": "a1662bc0",
   "metadata": {},
   "source": [
    "##  3️⃣ Scikit-learn – Machine Learning for Threat Detection"
   ]
  },
  {
   "cell_type": "markdown",
   "id": "eb72f888",
   "metadata": {},
   "source": [
    "### Scenario 1: Training a model to detect malicious network traffic\n",
    "**Using a Random Forest classifier to distinguish between normal and malicious network traffic.**"
   ]
  },
  {
   "cell_type": "code",
   "execution_count": null,
   "id": "b381e3c8",
   "metadata": {},
   "outputs": [],
   "source": [
    "from sklearn.ensemble import RandomForestClassifier\n",
    "import numpy as np\n",
    "\n",
    "# Simulated dataset (features: packet size, duration, frequency)\n",
    "X_train = np.random.rand(100, 3)\n",
    "y_train = np.random.randint(0, 2, 100)  # 0: Normal, 1: Malicious\n",
    "\n",
    "model = RandomForestClassifier(n_estimators=10)\n",
    "model.fit(X_train, y_train)\n",
    "\n",
    "# Simulated new network traffic\n",
    "X_test = np.random.rand(1, 3)\n",
    "prediction = model.predict(X_test)\n",
    "print(\"Prediction (0: Normal, 1: Malicious):\", prediction)"
   ]
  },
  {
   "cell_type": "markdown",
   "id": "39853073",
   "metadata": {},
   "source": [
    "### Scenario 2: Phishing Email Classification\n",
    "**Using a Naive Bayes model to classify emails as phishing or legitimate.**"
   ]
  },
  {
   "cell_type": "code",
   "execution_count": null,
   "id": "134393a5",
   "metadata": {},
   "outputs": [],
   "source": [
    "from sklearn.feature_extraction.text import CountVectorizer\n",
    "from sklearn.naive_bayes import MultinomialNB\n",
    "\n",
    "emails = [\"Free money now!\", \"Your invoice is attached\", \"Win a prize! Click here\"]\n",
    "labels = [1, 0, 1]  # 1: Phishing, 0: Legitimate\n",
    "\n",
    "vectorizer = CountVectorizer()\n",
    "X_train = vectorizer.fit_transform(emails)\n",
    "model = MultinomialNB()\n",
    "model.fit(X_train, labels)\n",
    "\n",
    "# Predict a new email\n",
    "new_email = vectorizer.transform([\"Your account needs verification\"])\n",
    "print(\"Prediction (1: Phishing, 0: Legitimate):\", model.predict(new_email))"
   ]
  },
  {
   "cell_type": "markdown",
   "id": "4d8ab2ca",
   "metadata": {},
   "source": [
    "### Scenario 3: Intrusion Detection System (IDS)\n",
    "**Building an anomaly detection model for network intrusions.**"
   ]
  },
  {
   "cell_type": "code",
   "execution_count": null,
   "id": "f76f20c6",
   "metadata": {},
   "outputs": [],
   "source": [
    "from sklearn.ensemble import IsolationForest\n",
    "import numpy as np\n",
    "\n",
    "# Simulated normal network traffic\n",
    "X_train = np.random.rand(100, 2)\n",
    "model = IsolationForest(contamination=0.1)\n",
    "model.fit(X_train)\n",
    "\n",
    "# Detect anomalies\n",
    "X_test = np.random.rand(5, 2)\n",
    "predictions = model.predict(X_test)\n",
    "print(\"Anomaly predictions (-1: Anomalous, 1: Normal):\", predictions)"
   ]
  },
  {
   "cell_type": "markdown",
   "id": "9fd73583",
   "metadata": {},
   "source": [
    "### Scenario 4: Predicting Malware Behavior\n",
    "**Using a decision tree to classify malware behavior based on system calls.**"
   ]
  },
  {
   "cell_type": "code",
   "execution_count": null,
   "id": "e3cf0820",
   "metadata": {},
   "outputs": [],
   "source": [
    "from sklearn.tree import DecisionTreeClassifier\n",
    "\n",
    "X_train = [[5, 3, 1], [2, 1, 0], [4, 3, 2], [6, 5, 2]]  # Features: API calls, registry access, network activity\n",
    "y_train = [1, 0, 1, 1]  # 1: Malicious, 0: Benign\n",
    "\n",
    "model = DecisionTreeClassifier()\n",
    "model.fit(X_train, y_train)\n",
    "\n",
    "X_test = [[3, 2, 1]]\n",
    "print(\"Malware Prediction:\", model.predict(X_test))"
   ]
  },
  {
   "cell_type": "markdown",
   "id": "2b422c99",
   "metadata": {},
   "source": [
    "### Scenario 5: Spam Detection Using Logistic Regression\n",
    "**Classifying spam messages using logistic regression.**"
   ]
  },
  {
   "cell_type": "code",
   "execution_count": null,
   "id": "027999af",
   "metadata": {},
   "outputs": [],
   "source": [
    "from sklearn.linear_model import LogisticRegression\n",
    "from sklearn.feature_extraction.text import TfidfVectorizer\n",
    "\n",
    "messages = [\"Congratulations, you've won!\", \"Meeting at 3 PM\", \"Claim your free gift now\"]\n",
    "labels = [1, 0, 1]  # 1: Spam, 0: Ham\n",
    "\n",
    "vectorizer = TfidfVectorizer()\n",
    "X_train = vectorizer.fit_transform(messages)\n",
    "model = LogisticRegression()\n",
    "model.fit(X_train, labels)\n",
    "\n",
    "# Test a new message\n",
    "X_test = vectorizer.transform([\"Urgent! Update your account\"])\n",
    "print(\"Spam Prediction:\", model.predict(X_test))"
   ]
  },
  {
   "cell_type": "markdown",
   "id": "db517441",
   "metadata": {},
   "source": [
    "## 4️⃣ Requests – API Interactions for OSINT & Threat Intelligence"
   ]
  },
  {
   "cell_type": "markdown",
   "id": "2e6d4aba",
   "metadata": {},
   "source": [
    "### Scenario 1: Fetching Threat Intelligence Data\n",
    "**Checking a suspicious IP against a threat intelligence API**"
   ]
  },
  {
   "cell_type": "code",
   "execution_count": null,
   "id": "f84b55aa",
   "metadata": {},
   "outputs": [],
   "source": [
    "import requests\n",
    "ip = \"8.8.8.8\"\n",
    "response = requests.get(f\"https://threatintel.api/check-ip/{ip}\")\n",
    "print(response.json())"
   ]
  },
  {
   "cell_type": "markdown",
   "id": "6973290f",
   "metadata": {},
   "source": [
    "### Scenario 2: Checking a Domain Reputation\n",
    "**Querying a domain reputation service to check if a domain is malicious.**"
   ]
  },
  {
   "cell_type": "code",
   "execution_count": null,
   "id": "2ea45058",
   "metadata": {},
   "outputs": [],
   "source": [
    "import requests\n",
    "\n",
    "domain = \"suspicious-site.com\"\n",
    "response = requests.get(f\"https://api.domainreputation.com/{domain}\")\n",
    "print(f\"Domain Reputation for {domain}:\", response.json())"
   ]
  },
  {
   "cell_type": "markdown",
   "id": "232f7242",
   "metadata": {},
   "source": [
    "### Scenario 3: Fetching Latest CVEs (Vulnerabilities)\n",
    "**Retrieving the latest vulnerability information from NIST’s CVE database.**"
   ]
  },
  {
   "cell_type": "code",
   "execution_count": null,
   "id": "05c716e9",
   "metadata": {},
   "outputs": [],
   "source": [
    "import requests\n",
    "\n",
    "response = requests.get(\"https://services.nvd.nist.gov/rest/json/cves/1.0\")\n",
    "print(\"Latest CVEs:\", response.json())"
   ]
  },
  {
   "cell_type": "markdown",
   "id": "359a1292",
   "metadata": {},
   "source": [
    "### Scenario 4: Automating Malware Sample Downloads\n",
    "**Fetching malware hashes from an open-source threat feed.**"
   ]
  },
  {
   "cell_type": "code",
   "execution_count": null,
   "id": "1993bc83",
   "metadata": {},
   "outputs": [],
   "source": [
    "import requests\n",
    "\n",
    "response = requests.get(\"https://malware-api.com/hashes\")\n",
    "print(\"Malware Hashes:\", response.json())"
   ]
  },
  {
   "cell_type": "markdown",
   "id": "c3d1889c",
   "metadata": {},
   "source": [
    "### Scenario 5: Monitoring Dark Web Data Leaks\n",
    "**Checking for compromised credentials in a data breach repository.**"
   ]
  },
  {
   "cell_type": "code",
   "execution_count": null,
   "id": "1126858f",
   "metadata": {},
   "outputs": [],
   "source": [
    "import requests\n",
    "\n",
    "email = \"target@example.com\"\n",
    "response = requests.get(f\"https://api.databreach.com/leaks?email={email}\")\n",
    "print(\"Leak Status:\", response.json())"
   ]
  },
  {
   "cell_type": "markdown",
   "id": "c25f76d9",
   "metadata": {},
   "source": [
    "## 5️⃣ Yara-Python – Malware Detection and Pattern Matching"
   ]
  },
  {
   "cell_type": "markdown",
   "id": "11d93165",
   "metadata": {},
   "source": [
    "### Scenario 1: Detecting Malware in Files\n",
    "**Using Yara rules to scan files for malware signatures.**"
   ]
  },
  {
   "cell_type": "code",
   "execution_count": null,
   "id": "c96b9038",
   "metadata": {},
   "outputs": [],
   "source": [
    "import yara\n",
    "rule = yara.compile(source='rule dummy { strings: $a = \"malware\" condition: $a }')\n",
    "matches = rule.match(data=\"This file contains malware\")\n",
    "print(matches)"
   ]
  },
  {
   "cell_type": "markdown",
   "id": "29f2a09c",
   "metadata": {},
   "source": [
    "### Scenario 2: Scanning Memory for Malicious Patterns\n",
    "**Using Yara to detect malware signatures in running processes.**"
   ]
  },
  {
   "cell_type": "code",
   "execution_count": null,
   "id": "bb3ce063",
   "metadata": {},
   "outputs": [],
   "source": [
    "import yara\n",
    "\n",
    "rule = yara.compile(source='rule MemoryScan { strings: $a = \"keylogger\" condition: $a }')\n",
    "memory_data = \"User typed password keylogger detected\"\n",
    "print(\"Memory Scan Results:\", rule.match(data=memory_data))"
   ]
  },
  {
   "cell_type": "markdown",
   "id": "6290587c",
   "metadata": {},
   "source": [
    "### Scenario 3: Detecting Ransomware Behavior\n",
    "**Using Yara to detect suspicious encryption patterns in files.**"
   ]
  },
  {
   "cell_type": "code",
   "execution_count": null,
   "id": "878f2262",
   "metadata": {},
   "outputs": [],
   "source": [
    "import yara\n",
    "\n",
    "rule = yara.compile(source='rule Ransomware { strings: $a = \"encrypt_file\" condition: $a }')\n",
    "matches = rule.match(data=\"encrypt_file detected\")\n",
    "print(\"Ransomware Detection:\", matches)"
   ]
  },
  {
   "cell_type": "markdown",
   "id": "567ec607",
   "metadata": {},
   "source": [
    "### Scenario 4: Analyzing Suspicious Email Attachments\n",
    "**Scanning email attachments for malware signatures.**"
   ]
  },
  {
   "cell_type": "code",
   "execution_count": null,
   "id": "ae5a21d6",
   "metadata": {},
   "outputs": [],
   "source": [
    "import yara\n",
    "\n",
    "rule = yara.compile(source='rule EmailMalware { strings: $a = \"phishing_payload\" condition: $a }')\n",
    "attachment_data = \"Contains phishing_payload\"\n",
    "print(\"Email Attachment Scan:\", rule.match(data=attachment_data))"
   ]
  },
  {
   "cell_type": "markdown",
   "id": "0fe5eac0",
   "metadata": {},
   "source": [
    "### Scenario 5: Hunting for Exploit Kits\n",
    "**Using Yara to scan for exploit kit indicators.**"
   ]
  },
  {
   "cell_type": "code",
   "execution_count": null,
   "id": "7be4cd67",
   "metadata": {},
   "outputs": [],
   "source": [
    "import yara\n",
    "\n",
    "rule = yara.compile(source='rule ExploitKit { strings: $a = \"exploit_trigger\" condition: $a }')\n",
    "exploit_data = \"exploit_trigger detected\"\n",
    "print(\"Exploit Kit Scan:\", rule.match(data=exploit_data))"
   ]
  },
  {
   "cell_type": "markdown",
   "id": "a487f2f4",
   "metadata": {},
   "source": [
    "### Scenario 6: Scanning a directory for suspicious files"
   ]
  },
  {
   "cell_type": "code",
   "execution_count": null,
   "id": "6073e6f4",
   "metadata": {},
   "outputs": [],
   "source": [
    "import os\n",
    "rule = yara.compile(source='rule suspicious { strings: $a = \"suspicious\" condition: $a }')\n",
    "for file in os.listdir(\"/path/to/scan\"):\n",
    "    with open(file, \"r\", errors='ignore') as f:\n",
    "        if rule.match(data=f.read()):\n",
    "            print(f\"Suspicious file detected: {file}\")"
   ]
  }
 ],
 "metadata": {
  "kernelspec": {
   "display_name": "Python 3 (ipykernel)",
   "language": "python",
   "name": "python3"
  },
  "language_info": {
   "codemirror_mode": {
    "name": "ipython",
    "version": 3
   },
   "file_extension": ".py",
   "mimetype": "text/x-python",
   "name": "python",
   "nbconvert_exporter": "python",
   "pygments_lexer": "ipython3",
   "version": "3.11.3"
  }
 },
 "nbformat": 4,
 "nbformat_minor": 5
}
